{
 "cells": [
  {
   "cell_type": "code",
   "execution_count": 1,
   "metadata": {},
   "outputs": [],
   "source": [
    "from collections import defaultdict\n",
    "import copy\n",
    "import json\n",
    "import os\n",
    "from os.path import exists, join, isdir\n",
    "from dataclasses import dataclass, field\n",
    "import sys\n",
    "from typing import Optional, Dict, Sequence\n",
    "import numpy as np\n",
    "from tqdm import tqdm\n",
    "import logging\n",
    "import bitsandbytes as bnb\n",
    "import pandas as pd\n",
    "\n",
    "from common.utils import *\n",
    "\n",
    "import torch\n",
    "import transformers\n",
    "from torch.nn.utils.rnn import pad_sequence\n",
    "import argparse\n",
    "from transformers import (\n",
    "    AutoTokenizer, \n",
    "    AutoModelForCausalLM,\n",
    "    set_seed,\n",
    "    Seq2SeqTrainer,\n",
    "    BitsAndBytesConfig,\n",
    "    LlamaTokenizer\n",
    "\n",
    ")\n",
    "from datasets import load_dataset, Dataset\n",
    "import evaluate\n",
    "\n",
    "from peft import (\n",
    "    prepare_model_for_kbit_training,\n",
    "    LoraConfig,\n",
    "    get_peft_model,\n",
    "    PeftModel\n",
    ")\n",
    "from peft.tuners.lora import LoraLayer\n",
    "from transformers.trainer_utils import PREFIX_CHECKPOINT_DIR"
   ]
  },
  {
   "cell_type": "code",
   "execution_count": 2,
   "metadata": {},
   "outputs": [],
   "source": [
    "if torch.cuda.is_available():   \n",
    "    torch.backends.cuda.matmul.allow_tf32 = True"
   ]
  },
  {
   "cell_type": "code",
   "execution_count": 3,
   "metadata": {},
   "outputs": [],
   "source": [
    "logger = logging.getLogger(__name__)\n",
    "\n",
    "IGNORE_INDEX = -100\n",
    "DEFAULT_PAD_TOKEN = \"[PAD]\""
   ]
  },
  {
   "cell_type": "code",
   "execution_count": 4,
   "metadata": {},
   "outputs": [],
   "source": [
    "## We set the ModelArguments\n",
    "@dataclass\n",
    "class ModelArguments:\n",
    "    model_name_or_path: Optional[str] = field(\n",
    "        default = \"EleutherAI/pythia-12b\"\n",
    "    )\n",
    "    trust_remote_code: Optional[bool] = field(\n",
    "        default = False,\n",
    "        metadata = {\"help\": \"Enable unpickling of arbitrary code in AutoModelForCausalLM#from_pretrained.\"}\n",
    "    )\n",
    "    use_auth_token: Optional[bool] = field(\n",
    "        default = False,\n",
    "        metadata = {\"help\": \"Enables using Huggingface auth token from Git Credentials.\"}\n",
    "    )"
   ]
  },
  {
   "cell_type": "code",
   "execution_count": 5,
   "metadata": {},
   "outputs": [],
   "source": [
    "## We set the DataArguments\n",
    "@dataclass\n",
    "class DataArguments:\n",
    "    eval_dataset_size: int = field(\n",
    "        default = 1024, metadata={\"help\": \"Size of validation dataset.\"}\n",
    "    )\n",
    "    max_train_samples: Optional[int] = field(\n",
    "        default = None,\n",
    "        metadata = {\n",
    "            \"help\": \"For debugging purposes or quicker training, truncate the number of training examples to this \"\n",
    "            \"value if set.\"\n",
    "        },\n",
    "    )\n",
    "    max_eval_samples: Optional[int] = field(\n",
    "        default = None,\n",
    "        metadata = {\n",
    "            \"help\": \"For debugging purposes or quicker training, truncate the number of evaluation examples to this \"\n",
    "            \"value if set.\"\n",
    "        },\n",
    "    )\n",
    "    source_max_len: int = field(\n",
    "        default = 1024,\n",
    "        metadata = {\"help\": \"Maximum source sequence length. Sequences will be right padded (and possibly truncated).\"},\n",
    "    )\n",
    "    target_max_len: int = field(\n",
    "        default = 256,\n",
    "        metadata = {\"help\": \"Maximum target sequence length. Sequences will be right padded (and possibly truncated).\"},\n",
    "    )\n",
    "    dataset: str = field(\n",
    "        default = 'alpaca',\n",
    "        metadata = {\"help\": \"Which dataset to finetune on. See datamodule for options.\"}\n",
    "    )\n",
    "    dataset_format: Optional[str] = field(\n",
    "        default = None,\n",
    "        metadata = {\"help\": \"Which dataset format is used. [alpaca|chip2|self-instruct|hh-rlhf]\"}\n",
    "    )"
   ]
  },
  {
   "cell_type": "code",
   "execution_count": 6,
   "metadata": {},
   "outputs": [],
   "source": [
    "@dataclass\n",
    "class TrainingArguments(transformers.Seq2SeqTrainingArguments):\n",
    "    cache_dir: Optional[str] = field(default = None)\n",
    "    train_on_source: Optional[bool] = field(\n",
    "        default = False,\n",
    "        metadata = {\"help\": \"Whether to train on the input in addition to the target text.\"}\n",
    "    )\n",
    "    mmlu_split: Optional[str] = field(default = 'eval', metadata = {\"help\": \"The MMLU split to run on\"})\n",
    "    mmlu_dataset: Optional[str] = field(\n",
    "        default = 'mmlu-fs',\n",
    "        metadata = {\"help\": \"MMLU dataset to use: options are `mmlu-zs` for zero-shot or `mmlu-fs` for few shot.\"}\n",
    "    )\n",
    "    do_mmlu_eval: Optional[bool] = field(default = False, metadata = {\"help\": \"Whether to run the MMLU evaluation.\"})\n",
    "    max_mmlu_samples: Optional[int] = field(\n",
    "        default = None,\n",
    "        metadata = {\"help\": \"If set, only evaluates on `max_mmlu_samples` of the MMMLU dataset.\"}\n",
    "    )\n",
    "    mmlu_source_max_len: int = field(default = 2048, metadata = {\"help\": \"Maximum source sequence length for mmlu.\"})\n",
    "    full_finetune: bool = field(default = False, metadata = {\"help\": \"Finetune the entire model without adapters.\"})\n",
    "    adam8bit: bool = field(default = False, metadata = {\"help\": \"Use 8-bit adam.\"})\n",
    "    double_quant: bool = field(\n",
    "        default = True,\n",
    "        metadata = {\"help\": \"Compress the quantization statistics through double quantization.\"}\n",
    "    )\n",
    "    quant_type: str = field(\n",
    "        default = \"nf4\",\n",
    "        metadata = {\"help\": \"Quantization data type to use. Should be one of `fp4` or `nf4`.\"}\n",
    "    )\n",
    "    bits: int = field(default = 4, metadata = {\"help\": \"How many bits to use.\"})\n",
    "    lora_r: int = field(default = 64, metadata = {\"help\": \"Lora R dimension.\"})\n",
    "    lora_alpha: float = field(default = 16, metadata = {\"help\": \" Lora alpha.\"})\n",
    "    lora_dropout: float = field(default = 0.0, metadata = {\"help\":\"Lora dropout.\"})\n",
    "    max_memory_MB: int = field(default = 80000, metadata = {\"help\": \"Free memory per gpu.\"})\n",
    "    report_to: str = field(default = 'none', metadata = {\"help\": \"To use wandb or something else for reporting.\"})\n",
    "    output_dir: str = field(default = './output', metadata = {\"help\": 'The output dir for logs and checkpoints'})\n",
    "    optim: str = field(default = 'paged_adamw_32bit', metadata = {\"help\": 'The optimizer to be used'})\n",
    "    per_device_train_batch_size: int = field(default = 2, metadata = {\"help\": 'The training batch size per GPU. Increase for better speed.'})\n",
    "    gradient_accumulation_steps: int = field(default = 16, metadata = {\"help\": 'How many gradients to accumulate before to perform an optimizer step'})\n",
    "    max_steps: int = field(default = 10000, metadata = {\"help\": 'How many optimizer update steps to take'})\n",
    "    weight_decay: float = field(default = 0.0, metadata = {\"help\": 'The L2 weight decay rate of AdamW'}) # use lora dropout instead for regularization if needed\n",
    "    learning_rate: float = field(default = 0.0002, metadata = {\"help\": 'The learnign rate'})\n",
    "    remove_unused_columns: bool = field(default = False, metadata = {\"help\": 'Removed unused columns. Needed to make this codebase work.'})\n",
    "    max_grad_norm: float = field(default = 0.3, metadata = {\"help\": 'Gradient clipping max norm. This is tuned and works well for all models tested.'})\n",
    "    gradient_checkpointing: bool = field(default = True, metadata = {\"help\": 'Use gradient checkpointing. You want to use this.'})\n",
    "    do_train: bool = field(default = True, metadata = {\"help\": 'To train or not to train, that is the question?'})\n",
    "    lr_scheduler_type: str = field(default = 'constant', metadata = {\"help\": 'Learning rate schedule. Constant a bit better than cosine, and has advantage for analysis'})\n",
    "    warmup_ratio: float = field(default = 0.03, metadata = {\"help\": 'Fraction of steps to do a warmup for'})\n",
    "    logging_steps: int = field(default = 10, metadata = {\"help\": 'The frequency of update steps after which to log the loss'})\n",
    "    group_by_length: bool = field(default = True, metadata = {\"help\": 'Group sequences into batches with same length. Saves memory and speeds up training considerably.'})\n",
    "    save_strategy: str = field(default = 'steps', metadata = {\"help\": 'When to save checkpoints'})\n",
    "    save_steps: int = field(default = 250, metadata = {\"help\": 'How often to save a model'})\n",
    "    save_total_limit: int = field(default = 40, metadata = {\"help\": 'How many checkpoints to save before the oldest is overwritten'})"
   ]
  },
  {
   "cell_type": "code",
   "execution_count": 7,
   "metadata": {},
   "outputs": [],
   "source": [
    "@dataclass\n",
    "class GenerationArguments:\n",
    "    # For more hyperparameters check:\n",
    "    # https://huggingface.co/docs/transformers/main_classes/text_generation#transformers.GenerationConfig\n",
    "    # Length arguments\n",
    "    max_new_tokens: Optional[int] = field(\n",
    "        default = 256,\n",
    "        metadata = {\"help\": \"Maximum number of new tokens to be generated in evaluation or prediction loops\"\n",
    "                            \"if predict_with_generate is set.\"}\n",
    "    )\n",
    "    min_new_tokens : Optional[int] = field(default = None, metadata = {\"help\": \"Minimum number of new tokens to generate.\"})\n",
    "\n",
    "    # Generation strategy\n",
    "    do_sample: Optional[bool] = field(default = False)\n",
    "    num_beams: Optional[int] = field(default = 1)\n",
    "    num_beam_groups: Optional[int] = field(default = 1)\n",
    "    penalty_alpha: Optional[float] = field(default = None)\n",
    "    use_cache: Optional[bool] = field(default = True)\n",
    "\n",
    "    # Hyperparameters for logit manipulation\n",
    "    temperature: Optional[float] = field(default = 1.0)\n",
    "    top_k: Optional[int] = field(default = 50)\n",
    "    top_p: Optional[float] = field(default = 1.0)\n",
    "    typical_p: Optional[float] = field(default = 1.0)\n",
    "    diversity_penalty: Optional[float] = field(default = 0.0)\n",
    "    repetition_penalty: Optional[float] = field(default = 1.0)\n",
    "    length_penalty: Optional[float] = field(default = 1.0)\n",
    "    no_repeat_ngram_size: Optional[int] = field(default = 0)"
   ]
  },
  {
   "cell_type": "markdown",
   "metadata": {},
   "source": [
    "### Model functions"
   ]
  },
  {
   "cell_type": "code",
   "execution_count": 8,
   "metadata": {},
   "outputs": [],
   "source": [
    "if torch.cuda.is_available():\n",
    "    n_gpus = torch.cuda.device_count()\n",
    "if is_ipex_available() and torch.xpu.is_available():\n",
    "    n_gpus = torch.xpu.device_count()"
   ]
  },
  {
   "cell_type": "code",
   "execution_count": 9,
   "metadata": {},
   "outputs": [
    {
     "data": {
      "text/plain": [
       "True"
      ]
     },
     "execution_count": 9,
     "metadata": {},
     "output_type": "execute_result"
    }
   ],
   "source": [
    "torch.cuda.is_bf16_supported()"
   ]
  },
  {
   "cell_type": "code",
   "execution_count": 11,
   "metadata": {},
   "outputs": [],
   "source": [
    "## sets the maximum memory that can be used per device and automatically determines a device mapping for model parts\n",
    "max_memory = f'{80000}MB'\n",
    "max_memory = {i: max_memory for i in range(2)}\n",
    "device_map = \"auto\"\n",
    "\n",
    "# if we are in a distributed setting, we need to set the device map and max memory per device\n",
    "if os.environ.get('LOCAL_RANK') is not None:\n",
    "    local_rank = int(os.environ.get('LOCAL_RANK', '0'))\n",
    "    device_map = {'': local_rank}\n",
    "    max_memory = {'': max_memory[local_rank]}"
   ]
  },
  {
   "cell_type": "code",
   "execution_count": 10,
   "metadata": {},
   "outputs": [],
   "source": [
    "model_name_or_path = \"mistralai/Mistral-7B-Instruct-v0.2\""
   ]
  },
  {
   "cell_type": "code",
   "execution_count": 12,
   "metadata": {},
   "outputs": [
    {
     "name": "stdout",
     "output_type": "stream",
     "text": [
      "loading base model mistralai/Mistral-7B-Instruct-v0.2...\n"
     ]
    },
    {
     "name": "stderr",
     "output_type": "stream",
     "text": [
      "/home/sshyamsu/miniconda3/envs/sharan_thesis/lib/python3.12/site-packages/transformers/models/auto/auto_factory.py:468: FutureWarning: The `use_auth_token` argument is deprecated and will be removed in v5 of Transformers. Please use `token` instead.\n",
      "  warnings.warn(\n"
     ]
    },
    {
     "data": {
      "application/vnd.jupyter.widget-view+json": {
       "model_id": "350e10eb653143bba0872a7c36f526ea",
       "version_major": 2,
       "version_minor": 0
      },
      "text/plain": [
       "Loading checkpoint shards:   0%|          | 0/3 [00:00<?, ?it/s]"
      ]
     },
     "metadata": {},
     "output_type": "display_data"
    }
   ],
   "source": [
    "## model is loaded from a pre-trained state, with parameters for quantization and other configurations determined by the arguments.\n",
    "print(f'loading base model {model_name_or_path}...')\n",
    "compute_dtype = torch.bfloat16\n",
    "model = AutoModelForCausalLM.from_pretrained(\n",
    "    model_name_or_path,\n",
    "    cache_dir = None,\n",
    "    device_map = device_map,\n",
    "    max_memory = max_memory,\n",
    "    quantization_config = BitsAndBytesConfig(\n",
    "        load_in_4bit = True,\n",
    "        load_in_8bit = False,\n",
    "        llm_int8_threshold = 6.0,\n",
    "        llm_int8_has_fp16_weight = False,\n",
    "        bnb_4bit_compute_dtype = compute_dtype,\n",
    "        bnb_4bit_use_double_quant = True,\n",
    "        bnb_4bit_quant_type = \"nf4\",\n",
    "    ),\n",
    "    torch_dtype = torch.bfloat16,\n",
    "    trust_remote_code = False,\n",
    "    use_auth_token = False\n",
    ")"
   ]
  },
  {
   "cell_type": "code",
   "execution_count": 13,
   "metadata": {},
   "outputs": [],
   "source": [
    "## flags the model as parallelizable and model-parallel ready\n",
    "setattr(model, 'model_parallel', True)\n",
    "setattr(model, 'is_parallelizable', True)"
   ]
  },
  {
   "cell_type": "code",
   "execution_count": 14,
   "metadata": {},
   "outputs": [],
   "source": [
    "model.config.torch_dtype = torch.bfloat16"
   ]
  },
  {
   "cell_type": "code",
   "execution_count": 15,
   "metadata": {},
   "outputs": [
    {
     "name": "stderr",
     "output_type": "stream",
     "text": [
      "/home/sshyamsu/miniconda3/envs/sharan_thesis/lib/python3.12/site-packages/transformers/models/auto/tokenization_auto.py:721: FutureWarning: The `use_auth_token` argument is deprecated and will be removed in v5 of Transformers. Please use `token` instead.\n",
      "  warnings.warn(\n"
     ]
    },
    {
     "data": {
      "application/vnd.jupyter.widget-view+json": {
       "model_id": "8b50cc69bd1b4c40b0c8339fc30793b7",
       "version_major": 2,
       "version_minor": 0
      },
      "text/plain": [
       "tokenizer_config.json:   0%|          | 0.00/1.46k [00:00<?, ?B/s]"
      ]
     },
     "metadata": {},
     "output_type": "display_data"
    },
    {
     "data": {
      "application/vnd.jupyter.widget-view+json": {
       "model_id": "9945bf38b58e470ab47bbdd5f9543133",
       "version_major": 2,
       "version_minor": 0
      },
      "text/plain": [
       "tokenizer.model:   0%|          | 0.00/493k [00:00<?, ?B/s]"
      ]
     },
     "metadata": {},
     "output_type": "display_data"
    },
    {
     "data": {
      "application/vnd.jupyter.widget-view+json": {
       "model_id": "4f8948332c91494c8933306730c8e2c9",
       "version_major": 2,
       "version_minor": 0
      },
      "text/plain": [
       "special_tokens_map.json:   0%|          | 0.00/72.0 [00:00<?, ?B/s]"
      ]
     },
     "metadata": {},
     "output_type": "display_data"
    },
    {
     "data": {
      "application/vnd.jupyter.widget-view+json": {
       "model_id": "ba3ccdb31b8f41c58e2b81a824a72ebf",
       "version_major": 2,
       "version_minor": 0
      },
      "text/plain": [
       "tokenizer.json:   0%|          | 0.00/1.80M [00:00<?, ?B/s]"
      ]
     },
     "metadata": {},
     "output_type": "display_data"
    }
   ],
   "source": [
    "# Initializing the Tokenizer\n",
    "tokenizer = AutoTokenizer.from_pretrained(\n",
    "    model_name_or_path,\n",
    "    cache_dir = None,\n",
    "    padding_side = \"right\",\n",
    "    use_fast = False, # Fast tokenizer giving issues.\n",
    "    tokenizer_type = 'llama' if 'llama' in model_name_or_path else None, # Needed for HF name change\n",
    "    trust_remote_code = False,\n",
    "    use_auth_token = False,\n",
    ")"
   ]
  },
  {
   "cell_type": "code",
   "execution_count": 16,
   "metadata": {},
   "outputs": [],
   "source": [
    "def smart_tokenizer_and_embedding_resize(\n",
    "    special_tokens_dict: Dict,\n",
    "    tokenizer: transformers.PreTrainedTokenizer,\n",
    "    model: transformers.PreTrainedModel,\n",
    "):\n",
    "    \"\"\"Resize tokenizer and embedding.\n",
    "\n",
    "    Note: This is the unoptimized version that may make your embedding size not be divisible by 64.\n",
    "    \"\"\"\n",
    "    num_new_tokens = tokenizer.add_special_tokens(special_tokens_dict)\n",
    "    model.resize_token_embeddings(len(tokenizer))\n",
    "    \n",
    "    if num_new_tokens > 0:\n",
    "        input_embeddings_data = model.get_input_embeddings().weight.data\n",
    "        output_embeddings_data = model.get_output_embeddings().weight.data\n",
    "\n",
    "        input_embeddings_avg = input_embeddings_data[:-num_new_tokens].mean(dim=0, keepdim=True)\n",
    "        output_embeddings_avg = output_embeddings_data[:-num_new_tokens].mean(dim=0, keepdim=True)\n",
    "\n",
    "        input_embeddings_data[-num_new_tokens:] = input_embeddings_avg\n",
    "        output_embeddings_data[-num_new_tokens:] = output_embeddings_avg"
   ]
  },
  {
   "cell_type": "code",
   "execution_count": 17,
   "metadata": {},
   "outputs": [],
   "source": [
    "if tokenizer._pad_token is None:\n",
    "    smart_tokenizer_and_embedding_resize(\n",
    "        special_tokens_dict = dict(pad_token = DEFAULT_PAD_TOKEN),\n",
    "        tokenizer = tokenizer,\n",
    "        model = model,\n",
    "    )"
   ]
  },
  {
   "cell_type": "code",
   "execution_count": 18,
   "metadata": {},
   "outputs": [],
   "source": [
    "model = prepare_model_for_kbit_training(model, use_gradient_checkpointing = True)"
   ]
  },
  {
   "cell_type": "code",
   "execution_count": 19,
   "metadata": {},
   "outputs": [],
   "source": [
    "# used to find and list the names of all the linear modules\n",
    "def find_all_linear_names(model):\n",
    "    cls = bnb.nn.Linear4bit\n",
    "    lora_module_names = set()\n",
    "    for name, module in model.named_modules():\n",
    "        if isinstance(module, cls):\n",
    "            names = name.split('.')\n",
    "            lora_module_names.add(names[0] if len(names) == 1 else names[-1])\n",
    "\n",
    "\n",
    "    if 'lm_head' in lora_module_names: # needed for 16-bit\n",
    "        lora_module_names.remove('lm_head')\n",
    "    return list(lora_module_names)"
   ]
  },
  {
   "cell_type": "code",
   "execution_count": 20,
   "metadata": {},
   "outputs": [
    {
     "name": "stdout",
     "output_type": "stream",
     "text": [
      "adding LoRA modules...\n"
     ]
    }
   ],
   "source": [
    "print(f'adding LoRA modules...')\n",
    "modules = find_all_linear_names(model)\n",
    "config = LoraConfig(\n",
    "    r = 64,\n",
    "    lora_alpha = 16,\n",
    "    target_modules = modules,\n",
    "    lora_dropout = 0.0,\n",
    "    bias = \"none\",\n",
    "    task_type = \"CAUSAL_LM\",\n",
    ")\n",
    "model = get_peft_model(model, config)"
   ]
  },
  {
   "cell_type": "code",
   "execution_count": 21,
   "metadata": {},
   "outputs": [],
   "source": [
    "## iterates through the named modules of the model to perform type casting to the appropriate data types\n",
    "for name, module in model.named_modules():\n",
    "    if isinstance(module, LoraLayer):\n",
    "        module = module.to(torch.bfloat16)\n",
    "    if 'norm' in name:\n",
    "        module = module.to(torch.float32)\n",
    "    if 'lm_head' in name or 'embed_tokens' in name:\n",
    "        if hasattr(module, 'weight'):\n",
    "            if module.weight.dtype == torch.float32:\n",
    "                module = module.to(torch.bfloat16)"
   ]
  },
  {
   "cell_type": "code",
   "execution_count": 22,
   "metadata": {},
   "outputs": [],
   "source": [
    "def print_trainable_parameters(model):\n",
    "    \"\"\"\n",
    "    Prints the number of trainable parameters in the model.\n",
    "    \"\"\"\n",
    "    trainable_params = 0\n",
    "    all_param = 0\n",
    "    for _, param in model.named_parameters():\n",
    "        all_param += param.numel()\n",
    "        if param.requires_grad:\n",
    "            trainable_params += param.numel()\n",
    "    if 4 == 4: trainable_params /= 2\n",
    "    print(\n",
    "        f\"trainable params: {trainable_params} || \"\n",
    "        f\"all params: {all_param} || \"\n",
    "        f\"trainable: {100 * trainable_params / all_param}\"\n",
    "    )"
   ]
  },
  {
   "cell_type": "code",
   "execution_count": 23,
   "metadata": {},
   "outputs": [
    {
     "name": "stdout",
     "output_type": "stream",
     "text": [
      "trainable params: 83886080.0 || all params: 3919851520 || trainable: 2.140032079582443\n"
     ]
    }
   ],
   "source": [
    "print_trainable_parameters(model)"
   ]
  },
  {
   "cell_type": "markdown",
   "metadata": {},
   "source": [
    "### Data Functions"
   ]
  },
  {
   "cell_type": "code",
   "execution_count": null,
   "metadata": {},
   "outputs": [],
   "source": []
  },
  {
   "cell_type": "markdown",
   "metadata": {},
   "source": [
    "### Testing train fn"
   ]
  },
  {
   "cell_type": "code",
   "execution_count": 24,
   "metadata": {},
   "outputs": [],
   "source": [
    "hfparser = transformers.HfArgumentParser((ModelArguments, DataArguments, TrainingArguments, GenerationArguments))"
   ]
  },
  {
   "cell_type": "code",
   "execution_count": 27,
   "metadata": {},
   "outputs": [
    {
     "data": {
      "text/plain": [
       "HfArgumentParser(prog='ipykernel_launcher.py', usage=None, description=None, formatter_class=<class 'argparse.ArgumentDefaultsHelpFormatter'>, conflict_handler='error', add_help=True)"
      ]
     },
     "execution_count": 27,
     "metadata": {},
     "output_type": "execute_result"
    },
    {
     "ename": "",
     "evalue": "",
     "output_type": "error",
     "traceback": [
      "\u001b[1;31mThe Kernel crashed while executing code in the current cell or a previous cell. \n",
      "\u001b[1;31mPlease review the code in the cell(s) to identify a possible cause of the failure. \n",
      "\u001b[1;31mClick <a href='https://aka.ms/vscodeJupyterKernelCrash'>here</a> for more info. \n",
      "\u001b[1;31mView Jupyter <a href='command:jupyter.viewOutput'>log</a> for further details."
     ]
    }
   ],
   "source": [
    "hfparser"
   ]
  },
  {
   "cell_type": "code",
   "execution_count": 26,
   "metadata": {},
   "outputs": [
    {
     "name": "stderr",
     "output_type": "stream",
     "text": [
      "usage: ipykernel_launcher.py [-h] [--model_name_or_path MODEL_NAME_OR_PATH]\n",
      "                             [--trust_remote_code [TRUST_REMOTE_CODE]]\n",
      "                             [--use_auth_token [USE_AUTH_TOKEN]]\n",
      "                             [--eval_dataset_size EVAL_DATASET_SIZE]\n",
      "                             [--max_train_samples MAX_TRAIN_SAMPLES]\n",
      "                             [--max_eval_samples MAX_EVAL_SAMPLES]\n",
      "                             [--source_max_len SOURCE_MAX_LEN]\n",
      "                             [--target_max_len TARGET_MAX_LEN]\n",
      "                             [--dataset DATASET]\n",
      "                             [--dataset_format DATASET_FORMAT]\n",
      "                             [--output_dir OUTPUT_DIR]\n",
      "                             [--overwrite_output_dir [OVERWRITE_OUTPUT_DIR]]\n",
      "                             [--do_train [DO_TRAIN]] [--no_do_train]\n",
      "                             [--do_eval [DO_EVAL]] [--do_predict [DO_PREDICT]]\n",
      "                             [--evaluation_strategy {no,steps,epoch}]\n",
      "                             [--prediction_loss_only [PREDICTION_LOSS_ONLY]]\n",
      "                             [--per_device_train_batch_size PER_DEVICE_TRAIN_BATCH_SIZE]\n",
      "                             [--per_device_eval_batch_size PER_DEVICE_EVAL_BATCH_SIZE]\n",
      "                             [--per_gpu_train_batch_size PER_GPU_TRAIN_BATCH_SIZE]\n",
      "                             [--per_gpu_eval_batch_size PER_GPU_EVAL_BATCH_SIZE]\n",
      "                             [--gradient_accumulation_steps GRADIENT_ACCUMULATION_STEPS]\n",
      "                             [--eval_accumulation_steps EVAL_ACCUMULATION_STEPS]\n",
      "                             [--eval_delay EVAL_DELAY]\n",
      "                             [--learning_rate LEARNING_RATE]\n",
      "                             [--weight_decay WEIGHT_DECAY]\n",
      "                             [--adam_beta1 ADAM_BETA1]\n",
      "                             [--adam_beta2 ADAM_BETA2]\n",
      "                             [--adam_epsilon ADAM_EPSILON]\n",
      "                             [--max_grad_norm MAX_GRAD_NORM]\n",
      "                             [--num_train_epochs NUM_TRAIN_EPOCHS]\n",
      "                             [--max_steps MAX_STEPS]\n",
      "                             [--lr_scheduler_type LR_SCHEDULER_TYPE]\n",
      "                             [--lr_scheduler_kwargs LR_SCHEDULER_KWARGS]\n",
      "                             [--warmup_ratio WARMUP_RATIO]\n",
      "                             [--warmup_steps WARMUP_STEPS]\n",
      "                             [--log_level {detail,debug,info,warning,error,critical,passive}]\n",
      "                             [--log_level_replica {detail,debug,info,warning,error,critical,passive}]\n",
      "                             [--log_on_each_node [LOG_ON_EACH_NODE]]\n",
      "                             [--no_log_on_each_node]\n",
      "                             [--logging_dir LOGGING_DIR]\n",
      "                             [--logging_strategy {no,steps,epoch}]\n",
      "                             [--logging_first_step [LOGGING_FIRST_STEP]]\n",
      "                             [--logging_steps LOGGING_STEPS]\n",
      "                             [--logging_nan_inf_filter [LOGGING_NAN_INF_FILTER]]\n",
      "                             [--no_logging_nan_inf_filter]\n",
      "                             [--save_strategy SAVE_STRATEGY]\n",
      "                             [--save_steps SAVE_STEPS]\n",
      "                             [--save_total_limit SAVE_TOTAL_LIMIT]\n",
      "                             [--save_safetensors [SAVE_SAFETENSORS]]\n",
      "                             [--no_save_safetensors]\n",
      "                             [--save_on_each_node [SAVE_ON_EACH_NODE]]\n",
      "                             [--save_only_model [SAVE_ONLY_MODEL]]\n",
      "                             [--no_cuda [NO_CUDA]] [--use_cpu [USE_CPU]]\n",
      "                             [--use_mps_device [USE_MPS_DEVICE]] [--seed SEED]\n",
      "                             [--data_seed DATA_SEED]\n",
      "                             [--jit_mode_eval [JIT_MODE_EVAL]]\n",
      "                             [--use_ipex [USE_IPEX]] [--bf16 [BF16]]\n",
      "                             [--fp16 [FP16]] [--fp16_opt_level FP16_OPT_LEVEL]\n",
      "                             [--half_precision_backend {auto,apex,cpu_amp}]\n",
      "                             [--bf16_full_eval [BF16_FULL_EVAL]]\n",
      "                             [--fp16_full_eval [FP16_FULL_EVAL]] [--tf32 TF32]\n",
      "                             [--local_rank LOCAL_RANK]\n",
      "                             [--ddp_backend {nccl,gloo,mpi,ccl,hccl}]\n",
      "                             [--tpu_num_cores TPU_NUM_CORES]\n",
      "                             [--tpu_metrics_debug [TPU_METRICS_DEBUG]]\n",
      "                             [--debug DEBUG [DEBUG ...]]\n",
      "                             [--dataloader_drop_last [DATALOADER_DROP_LAST]]\n",
      "                             [--eval_steps EVAL_STEPS]\n",
      "                             [--dataloader_num_workers DATALOADER_NUM_WORKERS]\n",
      "                             [--dataloader_prefetch_factor DATALOADER_PREFETCH_FACTOR]\n",
      "                             [--past_index PAST_INDEX] [--run_name RUN_NAME]\n",
      "                             [--disable_tqdm DISABLE_TQDM]\n",
      "                             [--remove_unused_columns [REMOVE_UNUSED_COLUMNS]]\n",
      "                             [--label_names LABEL_NAMES [LABEL_NAMES ...]]\n",
      "                             [--load_best_model_at_end [LOAD_BEST_MODEL_AT_END]]\n",
      "                             [--metric_for_best_model METRIC_FOR_BEST_MODEL]\n",
      "                             [--greater_is_better GREATER_IS_BETTER]\n",
      "                             [--ignore_data_skip [IGNORE_DATA_SKIP]]\n",
      "                             [--fsdp FSDP]\n",
      "                             [--fsdp_min_num_params FSDP_MIN_NUM_PARAMS]\n",
      "                             [--fsdp_config FSDP_CONFIG]\n",
      "                             [--fsdp_transformer_layer_cls_to_wrap FSDP_TRANSFORMER_LAYER_CLS_TO_WRAP]\n",
      "                             [--accelerator_config ACCELERATOR_CONFIG]\n",
      "                             [--deepspeed DEEPSPEED]\n",
      "                             [--label_smoothing_factor LABEL_SMOOTHING_FACTOR]\n",
      "                             [--optim OPTIM] [--optim_args OPTIM_ARGS]\n",
      "                             [--adafactor [ADAFACTOR]]\n",
      "                             [--group_by_length [GROUP_BY_LENGTH]]\n",
      "                             [--no_group_by_length]\n",
      "                             [--length_column_name LENGTH_COLUMN_NAME]\n",
      "                             [--report_to REPORT_TO]\n",
      "                             [--ddp_find_unused_parameters DDP_FIND_UNUSED_PARAMETERS]\n",
      "                             [--ddp_bucket_cap_mb DDP_BUCKET_CAP_MB]\n",
      "                             [--ddp_broadcast_buffers DDP_BROADCAST_BUFFERS]\n",
      "                             [--dataloader_pin_memory [DATALOADER_PIN_MEMORY]]\n",
      "                             [--no_dataloader_pin_memory]\n",
      "                             [--dataloader_persistent_workers [DATALOADER_PERSISTENT_WORKERS]]\n",
      "                             [--skip_memory_metrics [SKIP_MEMORY_METRICS]]\n",
      "                             [--no_skip_memory_metrics]\n",
      "                             [--use_legacy_prediction_loop [USE_LEGACY_PREDICTION_LOOP]]\n",
      "                             [--push_to_hub [PUSH_TO_HUB]]\n",
      "                             [--resume_from_checkpoint RESUME_FROM_CHECKPOINT]\n",
      "                             [--hub_model_id HUB_MODEL_ID]\n",
      "                             [--hub_strategy {end,every_save,checkpoint,all_checkpoints}]\n",
      "                             [--hub_token HUB_TOKEN]\n",
      "                             [--hub_private_repo [HUB_PRIVATE_REPO]]\n",
      "                             [--hub_always_push [HUB_ALWAYS_PUSH]]\n",
      "                             [--gradient_checkpointing [GRADIENT_CHECKPOINTING]]\n",
      "                             [--no_gradient_checkpointing]\n",
      "                             [--gradient_checkpointing_kwargs GRADIENT_CHECKPOINTING_KWARGS]\n",
      "                             [--include_inputs_for_metrics [INCLUDE_INPUTS_FOR_METRICS]]\n",
      "                             [--fp16_backend {auto,apex,cpu_amp}]\n",
      "                             [--push_to_hub_model_id PUSH_TO_HUB_MODEL_ID]\n",
      "                             [--push_to_hub_organization PUSH_TO_HUB_ORGANIZATION]\n",
      "                             [--push_to_hub_token PUSH_TO_HUB_TOKEN]\n",
      "                             [--mp_parameters MP_PARAMETERS]\n",
      "                             [--auto_find_batch_size [AUTO_FIND_BATCH_SIZE]]\n",
      "                             [--full_determinism [FULL_DETERMINISM]]\n",
      "                             [--torchdynamo TORCHDYNAMO]\n",
      "                             [--ray_scope RAY_SCOPE]\n",
      "                             [--ddp_timeout DDP_TIMEOUT]\n",
      "                             [--torch_compile [TORCH_COMPILE]]\n",
      "                             [--torch_compile_backend TORCH_COMPILE_BACKEND]\n",
      "                             [--torch_compile_mode TORCH_COMPILE_MODE]\n",
      "                             [--dispatch_batches DISPATCH_BATCHES]\n",
      "                             [--split_batches SPLIT_BATCHES]\n",
      "                             [--include_tokens_per_second [INCLUDE_TOKENS_PER_SECOND]]\n",
      "                             [--include_num_input_tokens_seen [INCLUDE_NUM_INPUT_TOKENS_SEEN]]\n",
      "                             [--neftune_noise_alpha NEFTUNE_NOISE_ALPHA]\n",
      "                             [--sortish_sampler [SORTISH_SAMPLER]]\n",
      "                             [--predict_with_generate [PREDICT_WITH_GENERATE]]\n",
      "                             [--generation_max_length GENERATION_MAX_LENGTH]\n",
      "                             [--generation_num_beams GENERATION_NUM_BEAMS]\n",
      "                             [--generation_config GENERATION_CONFIG]\n",
      "                             [--cache_dir CACHE_DIR]\n",
      "                             [--train_on_source [TRAIN_ON_SOURCE]]\n",
      "                             [--mmlu_split MMLU_SPLIT]\n",
      "                             [--mmlu_dataset MMLU_DATASET]\n",
      "                             [--do_mmlu_eval [DO_MMLU_EVAL]]\n",
      "                             [--max_mmlu_samples MAX_MMLU_SAMPLES]\n",
      "                             [--mmlu_source_max_len MMLU_SOURCE_MAX_LEN]\n",
      "                             [--full_finetune [FULL_FINETUNE]]\n",
      "                             [--adam8bit [ADAM8BIT]]\n",
      "                             [--double_quant [DOUBLE_QUANT]]\n",
      "                             [--no_double_quant] [--quant_type QUANT_TYPE]\n",
      "                             [--bits BITS] [--lora_r LORA_R]\n",
      "                             [--lora_alpha LORA_ALPHA]\n",
      "                             [--lora_dropout LORA_DROPOUT]\n",
      "                             [--max_memory_MB MAX_MEMORY_MB]\n",
      "                             [--max_new_tokens MAX_NEW_TOKENS]\n",
      "                             [--min_new_tokens MIN_NEW_TOKENS]\n",
      "                             [--do_sample [DO_SAMPLE]] [--num_beams NUM_BEAMS]\n",
      "                             [--num_beam_groups NUM_BEAM_GROUPS]\n",
      "                             [--penalty_alpha PENALTY_ALPHA]\n",
      "                             [--use_cache [USE_CACHE]] [--no_use_cache]\n",
      "                             [--temperature TEMPERATURE] [--top_k TOP_K]\n",
      "                             [--top_p TOP_P] [--typical_p TYPICAL_P]\n",
      "                             [--diversity_penalty DIVERSITY_PENALTY]\n",
      "                             [--repetition_penalty REPETITION_PENALTY]\n",
      "                             [--length_penalty LENGTH_PENALTY]\n",
      "                             [--no_repeat_ngram_size NO_REPEAT_NGRAM_SIZE]\n",
      "ipykernel_launcher.py: error: ambiguous option: --f=/home/sshyamsu/.local/share/jupyter/runtime/kernel-v2-2725699fGWU54OBZmSz.json could match --fp16, --fp16_opt_level, --fp16_full_eval, --fsdp, --fsdp_min_num_params, --fsdp_config, --fsdp_transformer_layer_cls_to_wrap, --fp16_backend, --full_determinism, --full_finetune\n"
     ]
    },
    {
     "ename": "SystemExit",
     "evalue": "2",
     "output_type": "error",
     "traceback": [
      "An exception has occurred, use %tb to see the full traceback.\n",
      "\u001b[0;31mSystemExit\u001b[0m\u001b[0;31m:\u001b[0m 2\n"
     ]
    }
   ],
   "source": [
    "model_args, data_args, training_args, generation_args, extra_args = hfparser.parse_args_into_dataclasses(return_remaining_strings=True)"
   ]
  },
  {
   "cell_type": "markdown",
   "metadata": {},
   "source": []
  }
 ],
 "metadata": {
  "kernelspec": {
   "display_name": "sharan_thesis",
   "language": "python",
   "name": "python3"
  },
  "language_info": {
   "codemirror_mode": {
    "name": "ipython",
    "version": 3
   },
   "file_extension": ".py",
   "mimetype": "text/x-python",
   "name": "python",
   "nbconvert_exporter": "python",
   "pygments_lexer": "ipython3",
   "version": "3.12.1"
  }
 },
 "nbformat": 4,
 "nbformat_minor": 2
}
