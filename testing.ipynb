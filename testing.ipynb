{
 "cells": [
  {
   "cell_type": "code",
   "execution_count": null,
   "metadata": {},
   "outputs": [],
   "source": [
    "from collections import defaultdict\n",
    "import copy\n",
    "import json\n",
    "import os\n",
    "from os.path import exists, join, isdir\n",
    "from dataclasses import dataclass, field\n",
    "import sys\n",
    "from typing import Optional, Dict, Sequence\n",
    "import numpy as np\n",
    "from tqdm import tqdm\n",
    "import logging\n",
    "import bitsandbytes as bnb\n",
    "import pandas as pd\n",
    "\n",
    "from common.utils import *\n",
    "\n",
    "import torch\n",
    "import transformers\n",
    "from torch.nn.utils.rnn import pad_sequence\n",
    "import argparse\n",
    "from transformers import (\n",
    "    AutoTokenizer, \n",
    "    AutoModelForCausalLM,\n",
    "    set_seed,\n",
    "    Seq2SeqTrainer,\n",
    "    BitsAndBytesConfig,\n",
    "    LlamaTokenizer\n",
    "\n",
    ")\n",
    "from datasets import load_dataset, Dataset\n",
    "import evaluate\n",
    "\n",
    "from peft import (\n",
    "    prepare_model_for_kbit_training,\n",
    "    LoraConfig,\n",
    "    get_peft_model,\n",
    "    PeftModel\n",
    ")\n",
    "from peft.tuners.lora import LoraLayer\n",
    "from transformers.trainer_utils import PREFIX_CHECKPOINT_DIR"
   ]
  },
  {
   "cell_type": "code",
   "execution_count": null,
   "metadata": {},
   "outputs": [],
   "source": [
    "if torch.cuda.is_available():   \n",
    "    torch.backends.cuda.matmul.allow_tf32 = True"
   ]
  },
  {
   "cell_type": "code",
   "execution_count": null,
   "metadata": {},
   "outputs": [],
   "source": [
    "logger = logging.getLogger(__name__)\n",
    "\n",
    "IGNORE_INDEX = -100\n",
    "DEFAULT_PAD_TOKEN = \"[PAD]\""
   ]
  },
  {
   "cell_type": "code",
   "execution_count": null,
   "metadata": {},
   "outputs": [],
   "source": [
    "## We set the ModelArguments\n",
    "@dataclass\n",
    "class ModelArguments:\n",
    "    model_name_or_path: Optional[str] = field(\n",
    "        default = \"EleutherAI/pythia-12b\"\n",
    "    )\n",
    "    trust_remote_code: Optional[bool] = field(\n",
    "        default = False,\n",
    "        metadata = {\"help\": \"Enable unpickling of arbitrary code in AutoModelForCausalLM#from_pretrained.\"}\n",
    "    )\n",
    "    use_auth_token: Optional[bool] = field(\n",
    "        default = False,\n",
    "        metadata = {\"help\": \"Enables using Huggingface auth token from Git Credentials.\"}\n",
    "    )"
   ]
  },
  {
   "cell_type": "code",
   "execution_count": null,
   "metadata": {},
   "outputs": [],
   "source": [
    "## We set the DataArguments\n",
    "@dataclass\n",
    "class DataArguments:\n",
    "    eval_dataset_size: int = field(\n",
    "        default = 1024, metadata={\"help\": \"Size of validation dataset.\"}\n",
    "    )\n",
    "    max_train_samples: Optional[int] = field(\n",
    "        default = None,\n",
    "        metadata = {\n",
    "            \"help\": \"For debugging purposes or quicker training, truncate the number of training examples to this \"\n",
    "            \"value if set.\"\n",
    "        },\n",
    "    )\n",
    "    max_eval_samples: Optional[int] = field(\n",
    "        default = None,\n",
    "        metadata = {\n",
    "            \"help\": \"For debugging purposes or quicker training, truncate the number of evaluation examples to this \"\n",
    "            \"value if set.\"\n",
    "        },\n",
    "    )\n",
    "    source_max_len: int = field(\n",
    "        default = 1024,\n",
    "        metadata = {\"help\": \"Maximum source sequence length. Sequences will be right padded (and possibly truncated).\"},\n",
    "    )\n",
    "    target_max_len: int = field(\n",
    "        default = 256,\n",
    "        metadata = {\"help\": \"Maximum target sequence length. Sequences will be right padded (and possibly truncated).\"},\n",
    "    )\n",
    "    dataset: str = field(\n",
    "        default = 'alpaca',\n",
    "        metadata = {\"help\": \"Which dataset to finetune on. See datamodule for options.\"}\n",
    "    )\n",
    "    dataset_format: Optional[str] = field(\n",
    "        default = None,\n",
    "        metadata = {\"help\": \"Which dataset format is used. [alpaca|chip2|self-instruct|hh-rlhf]\"}\n",
    "    )"
   ]
  },
  {
   "cell_type": "code",
   "execution_count": null,
   "metadata": {},
   "outputs": [],
   "source": [
    "@dataclass\n",
    "class TrainingArguments(transformers.Seq2SeqTrainingArguments):\n",
    "    cache_dir: Optional[str] = field(default = None)\n",
    "    train_on_source: Optional[bool] = field(\n",
    "        default = False,\n",
    "        metadata = {\"help\": \"Whether to train on the input in addition to the target text.\"}\n",
    "    )\n",
    "    mmlu_split: Optional[str] = field(default = 'eval', metadata = {\"help\": \"The MMLU split to run on\"})\n",
    "    mmlu_dataset: Optional[str] = field(\n",
    "        default = 'mmlu-fs',\n",
    "        metadata = {\"help\": \"MMLU dataset to use: options are `mmlu-zs` for zero-shot or `mmlu-fs` for few shot.\"}\n",
    "    )\n",
    "    do_mmlu_eval: Optional[bool] = field(default = False, metadata = {\"help\": \"Whether to run the MMLU evaluation.\"})\n",
    "    max_mmlu_samples: Optional[int] = field(\n",
    "        default = None,\n",
    "        metadata = {\"help\": \"If set, only evaluates on `max_mmlu_samples` of the MMMLU dataset.\"}\n",
    "    )\n",
    "    mmlu_source_max_len: int = field(default = 2048, metadata = {\"help\": \"Maximum source sequence length for mmlu.\"})\n",
    "    full_finetune: bool = field(default = False, metadata = {\"help\": \"Finetune the entire model without adapters.\"})\n",
    "    adam8bit: bool = field(default = False, metadata = {\"help\": \"Use 8-bit adam.\"})\n",
    "    double_quant: bool = field(\n",
    "        default = True,\n",
    "        metadata = {\"help\": \"Compress the quantization statistics through double quantization.\"}\n",
    "    )\n",
    "    quant_type: str = field(\n",
    "        default = \"nf4\",\n",
    "        metadata = {\"help\": \"Quantization data type to use. Should be one of `fp4` or `nf4`.\"}\n",
    "    )\n",
    "    bits: int = field(default = 4, metadata = {\"help\": \"How many bits to use.\"})\n",
    "    lora_r: int = field(default = 64, metadata = {\"help\": \"Lora R dimension.\"})\n",
    "    lora_alpha: float = field(default = 16, metadata = {\"help\": \" Lora alpha.\"})\n",
    "    lora_dropout: float = field(default = 0.0, metadata = {\"help\":\"Lora dropout.\"})\n",
    "    max_memory_MB: int = field(default = 80000, metadata = {\"help\": \"Free memory per gpu.\"})\n",
    "    report_to: str = field(default = 'none', metadata = {\"help\": \"To use wandb or something else for reporting.\"})\n",
    "    output_dir: str = field(default = './output', metadata = {\"help\": 'The output dir for logs and checkpoints'})\n",
    "    optim: str = field(default = 'paged_adamw_32bit', metadata = {\"help\": 'The optimizer to be used'})\n",
    "    per_device_train_batch_size: int = field(default = 2, metadata = {\"help\": 'The training batch size per GPU. Increase for better speed.'})\n",
    "    gradient_accumulation_steps: int = field(default = 16, metadata = {\"help\": 'How many gradients to accumulate before to perform an optimizer step'})\n",
    "    max_steps: int = field(default = 10000, metadata = {\"help\": 'How many optimizer update steps to take'})\n",
    "    weight_decay: float = field(default = 0.0, metadata = {\"help\": 'The L2 weight decay rate of AdamW'}) # use lora dropout instead for regularization if needed\n",
    "    learning_rate: float = field(default = 0.0002, metadata = {\"help\": 'The learnign rate'})\n",
    "    remove_unused_columns: bool = field(default = False, metadata = {\"help\": 'Removed unused columns. Needed to make this codebase work.'})\n",
    "    max_grad_norm: float = field(default = 0.3, metadata = {\"help\": 'Gradient clipping max norm. This is tuned and works well for all models tested.'})\n",
    "    gradient_checkpointing: bool = field(default = True, metadata = {\"help\": 'Use gradient checkpointing. You want to use this.'})\n",
    "    do_train: bool = field(default = True, metadata = {\"help\": 'To train or not to train, that is the question?'})\n",
    "    lr_scheduler_type: str = field(default = 'constant', metadata = {\"help\": 'Learning rate schedule. Constant a bit better than cosine, and has advantage for analysis'})\n",
    "    warmup_ratio: float = field(default = 0.03, metadata = {\"help\": 'Fraction of steps to do a warmup for'})\n",
    "    logging_steps: int = field(default = 10, metadata = {\"help\": 'The frequency of update steps after which to log the loss'})\n",
    "    group_by_length: bool = field(default = True, metadata = {\"help\": 'Group sequences into batches with same length. Saves memory and speeds up training considerably.'})\n",
    "    save_strategy: str = field(default = 'steps', metadata = {\"help\": 'When to save checkpoints'})\n",
    "    save_steps: int = field(default = 250, metadata = {\"help\": 'How often to save a model'})\n",
    "    save_total_limit: int = field(default = 40, metadata = {\"help\": 'How many checkpoints to save before the oldest is overwritten'})"
   ]
  },
  {
   "cell_type": "code",
   "execution_count": null,
   "metadata": {},
   "outputs": [],
   "source": [
    "@dataclass\n",
    "class GenerationArguments:\n",
    "    # For more hyperparameters check:\n",
    "    # https://huggingface.co/docs/transformers/main_classes/text_generation#transformers.GenerationConfig\n",
    "    # Length arguments\n",
    "    max_new_tokens: Optional[int] = field(\n",
    "        default = 256,\n",
    "        metadata = {\"help\": \"Maximum number of new tokens to be generated in evaluation or prediction loops\"\n",
    "                            \"if predict_with_generate is set.\"}\n",
    "    )\n",
    "    min_new_tokens : Optional[int] = field(default = None, metadata = {\"help\": \"Minimum number of new tokens to generate.\"})\n",
    "\n",
    "    # Generation strategy\n",
    "    do_sample: Optional[bool] = field(default = False)\n",
    "    num_beams: Optional[int] = field(default = 1)\n",
    "    num_beam_groups: Optional[int] = field(default = 1)\n",
    "    penalty_alpha: Optional[float] = field(default = None)\n",
    "    use_cache: Optional[bool] = field(default = True)\n",
    "\n",
    "    # Hyperparameters for logit manipulation\n",
    "    temperature: Optional[float] = field(default = 1.0)\n",
    "    top_k: Optional[int] = field(default = 50)\n",
    "    top_p: Optional[float] = field(default = 1.0)\n",
    "    typical_p: Optional[float] = field(default = 1.0)\n",
    "    diversity_penalty: Optional[float] = field(default = 0.0)\n",
    "    repetition_penalty: Optional[float] = field(default = 1.0)\n",
    "    length_penalty: Optional[float] = field(default = 1.0)\n",
    "    no_repeat_ngram_size: Optional[int] = field(default = 0)"
   ]
  },
  {
   "cell_type": "markdown",
   "metadata": {},
   "source": [
    "### Model functions"
   ]
  },
  {
   "cell_type": "code",
   "execution_count": null,
   "metadata": {},
   "outputs": [],
   "source": [
    "if torch.cuda.is_available():\n",
    "    n_gpus = torch.cuda.device_count()\n",
    "if is_ipex_available() and torch.xpu.is_available():\n",
    "    n_gpus = torch.xpu.device_count()"
   ]
  },
  {
   "cell_type": "code",
   "execution_count": null,
   "metadata": {},
   "outputs": [],
   "source": [
    "torch.cuda.is_bf16_supported()"
   ]
  },
  {
   "cell_type": "code",
   "execution_count": null,
   "metadata": {},
   "outputs": [],
   "source": [
    "## sets the maximum memory that can be used per device and automatically determines a device mapping for model parts\n",
    "max_memory = f'{80000}MB'\n",
    "max_memory = {i: max_memory for i in range(2)}\n",
    "device_map = \"auto\"\n",
    "\n",
    "# if we are in a distributed setting, we need to set the device map and max memory per device\n",
    "if os.environ.get('LOCAL_RANK') is not None:\n",
    "    local_rank = int(os.environ.get('LOCAL_RANK', '0'))\n",
    "    device_map = {'': local_rank}\n",
    "    max_memory = {'': max_memory[local_rank]}"
   ]
  },
  {
   "cell_type": "code",
   "execution_count": null,
   "metadata": {},
   "outputs": [],
   "source": [
    "model_name_or_path = \"mistralai/Mistral-7B-Instruct-v0.2\""
   ]
  },
  {
   "cell_type": "code",
   "execution_count": null,
   "metadata": {},
   "outputs": [],
   "source": [
    "## model is loaded from a pre-trained state, with parameters for quantization and other configurations determined by the arguments.\n",
    "print(f'loading base model {model_name_or_path}...')\n",
    "compute_dtype = torch.bfloat16\n",
    "model = AutoModelForCausalLM.from_pretrained(\n",
    "    model_name_or_path,\n",
    "    cache_dir = None,\n",
    "    device_map = device_map,\n",
    "    max_memory = max_memory,\n",
    "    quantization_config = BitsAndBytesConfig(\n",
    "        load_in_4bit = True,\n",
    "        load_in_8bit = False,\n",
    "        llm_int8_threshold = 6.0,\n",
    "        llm_int8_has_fp16_weight = False,\n",
    "        bnb_4bit_compute_dtype = compute_dtype,\n",
    "        bnb_4bit_use_double_quant = True,\n",
    "        bnb_4bit_quant_type = \"nf4\",\n",
    "    ),\n",
    "    torch_dtype = torch.bfloat16,\n",
    "    trust_remote_code = False,\n",
    "    use_auth_token = False\n",
    ")"
   ]
  },
  {
   "cell_type": "code",
   "execution_count": null,
   "metadata": {},
   "outputs": [],
   "source": [
    "## flags the model as parallelizable and model-parallel ready\n",
    "setattr(model, 'model_parallel', True)\n",
    "setattr(model, 'is_parallelizable', True)"
   ]
  },
  {
   "cell_type": "code",
   "execution_count": null,
   "metadata": {},
   "outputs": [],
   "source": [
    "model.config.torch_dtype = torch.bfloat16"
   ]
  },
  {
   "cell_type": "code",
   "execution_count": null,
   "metadata": {},
   "outputs": [],
   "source": [
    "# Initializing the Tokenizer\n",
    "tokenizer = AutoTokenizer.from_pretrained(\n",
    "    model_name_or_path,\n",
    "    cache_dir = None,\n",
    "    padding_side = \"right\",\n",
    "    use_fast = False, # Fast tokenizer giving issues.\n",
    "    tokenizer_type = 'llama' if 'llama' in model_name_or_path else None, # Needed for HF name change\n",
    "    trust_remote_code = False,\n",
    "    use_auth_token = False,\n",
    ")"
   ]
  },
  {
   "cell_type": "code",
   "execution_count": null,
   "metadata": {},
   "outputs": [],
   "source": [
    "def smart_tokenizer_and_embedding_resize(\n",
    "    special_tokens_dict: Dict,\n",
    "    tokenizer: transformers.PreTrainedTokenizer,\n",
    "    model: transformers.PreTrainedModel,\n",
    "):\n",
    "    \"\"\"Resize tokenizer and embedding.\n",
    "\n",
    "    Note: This is the unoptimized version that may make your embedding size not be divisible by 64.\n",
    "    \"\"\"\n",
    "    num_new_tokens = tokenizer.add_special_tokens(special_tokens_dict)\n",
    "    model.resize_token_embeddings(len(tokenizer))\n",
    "    \n",
    "    if num_new_tokens > 0:\n",
    "        input_embeddings_data = model.get_input_embeddings().weight.data\n",
    "        output_embeddings_data = model.get_output_embeddings().weight.data\n",
    "\n",
    "        input_embeddings_avg = input_embeddings_data[:-num_new_tokens].mean(dim=0, keepdim=True)\n",
    "        output_embeddings_avg = output_embeddings_data[:-num_new_tokens].mean(dim=0, keepdim=True)\n",
    "\n",
    "        input_embeddings_data[-num_new_tokens:] = input_embeddings_avg\n",
    "        output_embeddings_data[-num_new_tokens:] = output_embeddings_avg"
   ]
  },
  {
   "cell_type": "code",
   "execution_count": null,
   "metadata": {},
   "outputs": [],
   "source": [
    "if tokenizer._pad_token is None:\n",
    "    smart_tokenizer_and_embedding_resize(\n",
    "        special_tokens_dict = dict(pad_token = DEFAULT_PAD_TOKEN),\n",
    "        tokenizer = tokenizer,\n",
    "        model = model,\n",
    "    )"
   ]
  },
  {
   "cell_type": "code",
   "execution_count": null,
   "metadata": {},
   "outputs": [],
   "source": [
    "model = prepare_model_for_kbit_training(model, use_gradient_checkpointing = True)"
   ]
  },
  {
   "cell_type": "code",
   "execution_count": null,
   "metadata": {},
   "outputs": [],
   "source": [
    "# used to find and list the names of all the linear modules\n",
    "def find_all_linear_names(model):\n",
    "    cls = bnb.nn.Linear4bit\n",
    "    lora_module_names = set()\n",
    "    for name, module in model.named_modules():\n",
    "        if isinstance(module, cls):\n",
    "            names = name.split('.')\n",
    "            lora_module_names.add(names[0] if len(names) == 1 else names[-1])\n",
    "\n",
    "\n",
    "    if 'lm_head' in lora_module_names: # needed for 16-bit\n",
    "        lora_module_names.remove('lm_head')\n",
    "    return list(lora_module_names)"
   ]
  },
  {
   "cell_type": "code",
   "execution_count": null,
   "metadata": {},
   "outputs": [],
   "source": [
    "print(f'adding LoRA modules...')\n",
    "modules = find_all_linear_names(model)\n",
    "config = LoraConfig(\n",
    "    r = 64,\n",
    "    lora_alpha = 16,\n",
    "    target_modules = modules,\n",
    "    lora_dropout = 0.0,\n",
    "    bias = \"none\",\n",
    "    task_type = \"CAUSAL_LM\",\n",
    ")\n",
    "model = get_peft_model(model, config)"
   ]
  },
  {
   "cell_type": "code",
   "execution_count": null,
   "metadata": {},
   "outputs": [],
   "source": [
    "## iterates through the named modules of the model to perform type casting to the appropriate data types\n",
    "for name, module in model.named_modules():\n",
    "    if isinstance(module, LoraLayer):\n",
    "        module = module.to(torch.bfloat16)\n",
    "    if 'norm' in name:\n",
    "        module = module.to(torch.float32)\n",
    "    if 'lm_head' in name or 'embed_tokens' in name:\n",
    "        if hasattr(module, 'weight'):\n",
    "            if module.weight.dtype == torch.float32:\n",
    "                module = module.to(torch.bfloat16)"
   ]
  },
  {
   "cell_type": "code",
   "execution_count": null,
   "metadata": {},
   "outputs": [],
   "source": [
    "def print_trainable_parameters(model):\n",
    "    \"\"\"\n",
    "    Prints the number of trainable parameters in the model.\n",
    "    \"\"\"\n",
    "    trainable_params = 0\n",
    "    all_param = 0\n",
    "    for _, param in model.named_parameters():\n",
    "        all_param += param.numel()\n",
    "        if param.requires_grad:\n",
    "            trainable_params += param.numel()\n",
    "    if 4 == 4: trainable_params /= 2\n",
    "    print(\n",
    "        f\"trainable params: {trainable_params} || \"\n",
    "        f\"all params: {all_param} || \"\n",
    "        f\"trainable: {100 * trainable_params / all_param}\"\n",
    "    )"
   ]
  },
  {
   "cell_type": "code",
   "execution_count": null,
   "metadata": {},
   "outputs": [],
   "source": [
    "print_trainable_parameters(model)"
   ]
  },
  {
   "cell_type": "markdown",
   "metadata": {},
   "source": [
    "### Data Functions"
   ]
  },
  {
   "cell_type": "code",
   "execution_count": null,
   "metadata": {},
   "outputs": [],
   "source": []
  },
  {
   "cell_type": "markdown",
   "metadata": {},
   "source": [
    "### Testing train fn"
   ]
  },
  {
   "cell_type": "code",
   "execution_count": null,
   "metadata": {},
   "outputs": [],
   "source": [
    "hfparser = transformers.HfArgumentParser((ModelArguments, DataArguments, TrainingArguments, GenerationArguments))"
   ]
  },
  {
   "cell_type": "code",
   "execution_count": null,
   "metadata": {},
   "outputs": [],
   "source": [
    "hfparser"
   ]
  },
  {
   "cell_type": "code",
   "execution_count": null,
   "metadata": {},
   "outputs": [],
   "source": [
    "model_args, data_args, training_args, generation_args, extra_args = hfparser.parse_args_into_dataclasses(return_remaining_strings=True)"
   ]
  },
  {
   "cell_type": "markdown",
   "metadata": {},
   "source": []
  }
 ],
 "metadata": {
  "kernelspec": {
   "display_name": "sharan_thesis",
   "language": "python",
   "name": "python3"
  },
  "language_info": {
   "codemirror_mode": {
    "name": "ipython",
    "version": 3
   },
   "file_extension": ".py",
   "mimetype": "text/x-python",
   "name": "python",
   "nbconvert_exporter": "python",
   "pygments_lexer": "ipython3",
   "version": "3.12.1"
  }
 },
 "nbformat": 4,
 "nbformat_minor": 2
}
